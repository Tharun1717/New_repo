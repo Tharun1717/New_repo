{
 "cells": [
  {
   "cell_type": "code",
   "execution_count": 1,
   "metadata": {},
   "outputs": [],
   "source": [
    "import pyspark\n",
    "from pyspark.sql import SparkSession\n",
    "from pyspark.sql.types import StructType, StructField, IntegerType, StringType\n",
    "spark = SparkSession.builder.appName(\"Local_app\").getOrCreate()"
   ]
  },
  {
   "cell_type": "code",
   "execution_count": 2,
   "metadata": {},
   "outputs": [
    {
     "name": "stdout",
     "output_type": "stream",
     "text": [
      "DataFrame:\n",
      "+----+------+------+----+\n",
      "|S.no|  Name|Salary|Dept|\n",
      "+----+------+------+----+\n",
      "|   1|Tharun| 50000|   5|\n",
      "|   2|  Arun| 30000|   5|\n",
      "|   3| Varun| 40000|   4|\n",
      "|   4| Kiran| 20000|   4|\n",
      "+----+------+------+----+\n",
      "\n"
     ]
    }
   ],
   "source": [
    "schema = StructType([\n",
    "    StructField(\"S.no\", IntegerType(), True),\n",
    "    StructField(\"Name\", StringType(), True),\n",
    "    StructField(\"Salary\", IntegerType(), True),\n",
    "    StructField(\"Dept\", IntegerType(), True)\n",
    "])\n",
    "\n",
    "# Data\n",
    "data = [{\"S.no\":1, \"Name\":'Tharun', \"Salary\":50000, \"Dept\":5},\n",
    "        {\"S.no\":2, \"Name\":'Arun', \"Salary\":30000, \"Dept\":5},\n",
    "        {\"S.no\":3, \"Name\":'Varun', \"Salary\":40000, \"Dept\":4},\n",
    "        {\"S.no\":4, \"Name\":'Kiran', \"Salary\":20000, \"Dept\":4}]\n",
    "\n",
    "# Create DataFrame\n",
    "df = spark.createDataFrame(data, schema=schema)\n",
    "\n",
    "# Show DataFrame\n",
    "print(\"DataFrame:\")\n",
    "df.show()"
   ]
  },
  {
   "cell_type": "code",
   "execution_count": 3,
   "metadata": {},
   "outputs": [
    {
     "name": "stdout",
     "output_type": "stream",
     "text": [
      "Group by Dept and compute average salary:\n",
      "+----+-----------+\n",
      "|Dept|avg(Salary)|\n",
      "+----+-----------+\n",
      "|   5|    40000.0|\n",
      "|   4|    30000.0|\n",
      "+----+-----------+\n",
      "\n"
     ]
    }
   ],
   "source": [
    "print(\"Group by Dept and compute average salary:\")\n",
    "df.groupBy(\"Dept\").agg({\"Salary\": \"avg\"}).show()"
   ]
  },
  {
   "cell_type": "code",
   "execution_count": 4,
   "metadata": {},
   "outputs": [
    {
     "name": "stdout",
     "output_type": "stream",
     "text": [
      "Filtering rows where salary is greater than 30000:\n",
      "+----+------+------+----+\n",
      "|S.no|  Name|Salary|Dept|\n",
      "+----+------+------+----+\n",
      "|   1|Tharun| 50000|   5|\n",
      "|   3| Varun| 40000|   4|\n",
      "+----+------+------+----+\n",
      "\n"
     ]
    }
   ],
   "source": [
    "print(\"Filtering rows where salary is greater than 30000:\")\n",
    "df.filter(df[\"Salary\"] > 30000).show()"
   ]
  },
  {
   "cell_type": "code",
   "execution_count": null,
   "metadata": {},
   "outputs": [],
   "source": []
  }
 ],
 "metadata": {
  "kernelspec": {
   "display_name": "Python 3",
   "language": "python",
   "name": "python3"
  },
  "language_info": {
   "codemirror_mode": {
    "name": "ipython",
    "version": 3
   },
   "file_extension": ".py",
   "mimetype": "text/x-python",
   "name": "python",
   "nbconvert_exporter": "python",
   "pygments_lexer": "ipython3",
   "version": "3.11.8"
  }
 },
 "nbformat": 4,
 "nbformat_minor": 2
}
