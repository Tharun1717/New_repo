{
 "cells": [
  {
   "cell_type": "code",
   "execution_count": 6,
   "metadata": {},
   "outputs": [],
   "source": [
    "import pyspark\n",
    "from pyspark.sql import SparkSession\n",
    "from pyspark.sql.types import StructType, StructField, IntegerType, StringType\n",
    "spark = SparkSession.builder.appName(\"Local_app\").getOrCreate()"
   ]
  },
  {
   "cell_type": "code",
   "execution_count": 7,
   "metadata": {},
   "outputs": [
    {
     "name": "stdout",
     "output_type": "stream",
     "text": [
      "DataFrame:\n",
      "+----+------+------+----+\n",
      "|S.no|  Name|Salary|Dept|\n",
      "+----+------+------+----+\n",
      "|   1|Tharun| 50000|   5|\n",
      "|   2|  Arun| 30000|   5|\n",
      "|   3| Varun| 40000|   4|\n",
      "|   4| Kiran| 20000|   4|\n",
      "+----+------+------+----+\n",
      "\n"
     ]
    }
   ],
   "source": [
    "schema = StructType([\n",
    "    StructField(\"S.no\", IntegerType(), True),\n",
    "    StructField(\"Name\", StringType(), True),\n",
    "    StructField(\"Salary\", IntegerType(), True),\n",
    "    StructField(\"Dept\", IntegerType(), True)\n",
    "])\n",
    "\n",
    "# Data\n",
    "data = [{\"S.no\":1, \"Name\":'Tharun', \"Salary\":50000, \"Dept\":5},\n",
    "        {\"S.no\":2, \"Name\":'Arun', \"Salary\":30000, \"Dept\":5},\n",
    "        {\"S.no\":3, \"Name\":'Varun', \"Salary\":40000, \"Dept\":4},\n",
    "        {\"S.no\":4, \"Name\":'Kiran', \"Salary\":20000, \"Dept\":4}]\n",
    "\n",
    "# Create DataFrame\n",
    "df = spark.createDataFrame(data, schema=schema)\n",
    "\n",
    "# Show DataFrame\n",
    "print(\"DataFrame:\")\n",
    "df.show()"
   ]
  },
  {
   "cell_type": "code",
   "execution_count": 8,
   "metadata": {},
   "outputs": [
    {
     "name": "stdout",
     "output_type": "stream",
     "text": [
      "Group by Dept and compute average salary:\n",
      "+----+-----------+\n",
      "|Dept|avg(Salary)|\n",
      "+----+-----------+\n",
      "|   5|    40000.0|\n",
      "|   4|    30000.0|\n",
      "+----+-----------+\n",
      "\n"
     ]
    }
   ],
   "source": [
    "print(\"Group by Dept and compute average salary:\")\n",
    "df.groupBy(\"Dept\").agg({\"Salary\": \"avg\"}).show()"
   ]
  },
  {
   "cell_type": "code",
   "execution_count": 9,
   "metadata": {},
   "outputs": [
    {
     "name": "stdout",
     "output_type": "stream",
     "text": [
      "Filtering rows where salary is greater than 30000:\n",
      "+----+------+------+----+\n",
      "|S.no|  Name|Salary|Dept|\n",
      "+----+------+------+----+\n",
      "|   1|Tharun| 50000|   5|\n",
      "|   3| Varun| 40000|   4|\n",
      "+----+------+------+----+\n",
      "\n"
     ]
    }
   ],
   "source": [
    "print(\"Filtering rows where salary is greater than 30000:\")\n",
    "df.filter(df[\"Salary\"] > 30000).show()"
   ]
  },
  {
   "cell_type": "code",
   "execution_count": 13,
   "metadata": {},
   "outputs": [
    {
     "name": "stdout",
     "output_type": "stream",
     "text": [
      "+---+------+------+\n",
      "| _1|    _2|    _3|\n",
      "+---+------+------+\n",
      "|  1|Tharun|500000|\n",
      "|  2|  Teja|600000|\n",
      "|  3|  Anil|700000|\n",
      "|  4| Akhil|400000|\n",
      "+---+------+------+\n",
      "\n",
      "root\n",
      " |-- _1: long (nullable = true)\n",
      " |-- _2: string (nullable = true)\n",
      " |-- _3: long (nullable = true)\n",
      "\n"
     ]
    }
   ],
   "source": [
    "data_2 = [(1,'Tharun',500000),(2,'Teja',600000),(3,'Anil',700000),(4,'Akhil',400000)]\n",
    "df_2=spark.createDataFrame(data_2)\n",
    "df_2.show()\n",
    "df_2.printSchema()"
   ]
  },
  {
   "cell_type": "code",
   "execution_count": null,
   "metadata": {},
   "outputs": [],
   "source": []
  }
 ],
 "metadata": {
  "kernelspec": {
   "display_name": "Python 3",
   "language": "python",
   "name": "python3"
  },
  "language_info": {
   "codemirror_mode": {
    "name": "ipython",
    "version": 3
   },
   "file_extension": ".py",
   "mimetype": "text/x-python",
   "name": "python",
   "nbconvert_exporter": "python",
   "pygments_lexer": "ipython3",
   "version": "3.11.8"
  }
 },
 "nbformat": 4,
 "nbformat_minor": 2
}
