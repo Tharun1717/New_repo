{
 "cells": [
  {
   "cell_type": "markdown",
   "metadata": {},
   "source": [
    "# Remove duplicates in a List\n"
   ]
  },
  {
   "cell_type": "code",
   "execution_count": 1,
   "metadata": {},
   "outputs": [
    {
     "name": "stdout",
     "output_type": "stream",
     "text": [
      "List after removing duplicates: [2, 1, 3, 5, 4, 6, 7, 8]\n"
     ]
    }
   ],
   "source": [
    "a = [2, 1, 3, 1, 2, 5, 4, 5, 6, 7, 8, 8, 4, 3, 2, 5, 3, 5]\n",
    "b = []\n",
    "\n",
    "for i in a:\n",
    "    if i not in b:\n",
    "        b.append(i)\n",
    "\n",
    "print(\"List after removing duplicates:\", b)\n"
   ]
  },
  {
   "cell_type": "markdown",
   "metadata": {},
   "source": [
    " Sort the list in ascending order"
   ]
  },
  {
   "cell_type": "code",
   "execution_count": 5,
   "metadata": {},
   "outputs": [
    {
     "name": "stdout",
     "output_type": "stream",
     "text": [
      "List in ascending order: [1, 2, 3, 4, 5, 6, 7, 8]\n"
     ]
    }
   ],
   "source": [
    "for i in range(len(b)):\n",
    "    for j in range(i + 1, len(b)):\n",
    "        if b[i] > b[j]:\n",
    "            # Swap elements\n",
    "            d = b[i]\n",
    "            b[i] = b[j]\n",
    "            b[j] = d\n",
    "\n",
    "print(\"List in ascending order:\", b)\n"
   ]
  },
  {
   "cell_type": "code",
   "execution_count": null,
   "metadata": {},
   "outputs": [],
   "source": [
    "import calendar as cal\n",
    "for i in range(1,13):\n",
    "    print(cal.month(2024,i))"
   ]
  },
  {
   "cell_type": "code",
   "execution_count": null,
   "metadata": {},
   "outputs": [],
   "source": [
    "from turtle import *\n",
    "speed(10)\n",
    "color('orange')\n",
    "bgcolor('black')\n",
    "b = 200\n",
    "while b > 0:\n",
    "    left(b)\n",
    "    forward(b * 3)\n",
    "    b = b - 1"
   ]
  },
  {
   "cell_type": "code",
   "execution_count": null,
   "metadata": {},
   "outputs": [],
   "source": [
    "a = 10\n",
    "def name():\n",
    "    a = 5\n",
    "    print(a)\n",
    "name()\n",
    "print(a)"
   ]
  },
  {
   "cell_type": "markdown",
   "metadata": {},
   "source": [
    "# To find Max element in a list \n",
    "without using max() function"
   ]
  },
  {
   "cell_type": "code",
   "execution_count": 6,
   "metadata": {},
   "outputs": [
    {
     "name": "stdout",
     "output_type": "stream",
     "text": [
      "452\n",
      "3\n"
     ]
    }
   ],
   "source": [
    "a = [3,452,5,10,9,7,6,8]\n",
    "for i in range(len(a)):\n",
    "    for j in range(i+1,len(a)):\n",
    "        if a[i]>a[j] :\n",
    "            b = a[i]\n",
    "            a[i] = a[j]\n",
    "            a[j] = b\n",
    "\n",
    "print(a[i])\n",
    "print(min(a))"
   ]
  },
  {
   "cell_type": "markdown",
   "metadata": {},
   "source": [
    "# To find Min element in a list \n",
    "without using min() function"
   ]
  },
  {
   "cell_type": "code",
   "execution_count": null,
   "metadata": {},
   "outputs": [],
   "source": [
    "a = [3,452,5,-10,9,-7,6,8]\n",
    "for i in range(len(a)):\n",
    "    for j in range(i+1,len(a)):\n",
    "        if a[j]>a[i] :\n",
    "            b = a[j]\n",
    "            a[j] = a[i]\n",
    "            a[i] = b\n",
    "\n",
    "print(a[i])"
   ]
  },
  {
   "cell_type": "code",
   "execution_count": null,
   "metadata": {},
   "outputs": [],
   "source": [
    "def desc_order_of_list(a):\n",
    "    for i in range(len(a)):\n",
    "        for j in range(i+1,len(a)):\n",
    "            if a[i]<a[j] :\n",
    "                b = a[i]\n",
    "                a[i] = a[j]\n",
    "                a[j] = b\n",
    "    return(a[i])\n",
    "a = [3,452,5,-10,9,-7,6,8]\n",
    "desc_order_of_list(a)"
   ]
  },
  {
   "cell_type": "code",
   "execution_count": null,
   "metadata": {},
   "outputs": [],
   "source": [
    "def asc_order_of_list():\n",
    "    for i in range(len(a)):\n",
    "        for j in range(i+1,len(a)):\n",
    "            if a[i]>a[j] :\n",
    "                b = a[i]\n",
    "                a[i] = a[j]\n",
    "                a[j] = b\n",
    "    print(a[j])\n",
    "a = [3,452,5,-10,9,-7,6,8]\n",
    "asc_order_of_list()"
   ]
  },
  {
   "cell_type": "code",
   "execution_count": null,
   "metadata": {},
   "outputs": [],
   "source": [
    "def asc_order_of_list(a):\n",
    "    for i in range(len(a)):\n",
    "        for j in range(i+1, len(a)):\n",
    "            if a[i] > a[j]:\n",
    "                # Swap elements if they are in the wrong order\n",
    "                a[i], a[j] = a[j], a[i]\n",
    "    return a[i]\n",
    "\n",
    "a = [3, 452, 5, -10, 9, -7, 6, 8]\n",
    "sorted_list = asc_order_of_list(a)\n",
    "print(sorted_list)\n"
   ]
  },
  {
   "cell_type": "code",
   "execution_count": null,
   "metadata": {},
   "outputs": [],
   "source": [
    "def recursive_sort(arr, i=0):\n",
    "    if i < len(arr):\n",
    "        for j in range(i + 1, len(arr)):\n",
    "            if arr[i] > arr[j]:\n",
    "                # Swap elements if they are in the wrong order\n",
    "                arr[i], arr[j] = arr[j], arr[i]\n",
    "        # Recursive call for the next element\n",
    "        recursive_sort(arr, i + 1)\n",
    "\n",
    "def asc_order_of_list(arr):\n",
    "    recursive_sort(arr)\n",
    "    print(arr)\n",
    "\n",
    "a = [3, 452, 5, -10, 9, -7, 6, 8]\n",
    "asc_order_of_list(a)\n"
   ]
  },
  {
   "cell_type": "code",
   "execution_count": null,
   "metadata": {},
   "outputs": [],
   "source": [
    "def recursive_sort(arr, i=0):\n",
    "    if i < len(arr):\n",
    "        for j in range(i + 1, len(arr)):\n",
    "            if arr[i] > arr[j]:\n",
    "                # Swap elements if they are in the wrong order\n",
    "                arr[i], arr[j] = arr[j], arr[i]\n",
    "        # Recursive call for the next element\n",
    "        recursive_sort(arr, i + 1)\n",
    "\n",
    "def asc_order_of_list(arr):\n",
    "    recursive_sort(arr)\n",
    "    print(arr)\n",
    "\n",
    "a = ['python', 'string', 'in', 'a', 'list']\n",
    "asc_order_of_list(a)\n"
   ]
  },
  {
   "cell_type": "code",
   "execution_count": null,
   "metadata": {},
   "outputs": [],
   "source": [
    "a = 'python string in a list'\n",
    "b = a.split(' ')\n",
    "print(b)\n",
    "for i in range(len(a)):\n",
    "    if i%2==0:\n",
    "        print(a[i])\n"
   ]
  },
  {
   "cell_type": "code",
   "execution_count": null,
   "metadata": {},
   "outputs": [],
   "source": [
    "def reverse_str(a):\n",
    "    b = a[::-1]\n",
    "    print(b)\n",
    "reverse_str('tharun')\n"
   ]
  },
  {
   "cell_type": "code",
   "execution_count": 4,
   "metadata": {},
   "outputs": [
    {
     "name": "stdout",
     "output_type": "stream",
     "text": [
      "MALAYALAM is a polindrom\n"
     ]
    }
   ],
   "source": [
    "a = \"MALAYALAM\"\n",
    "if a == a[::-1]:\n",
    "    print(a+ ' is a polindrom')\n",
    "else:\n",
    "    print(a+ 'is not a polindrom')"
   ]
  },
  {
   "cell_type": "code",
   "execution_count": null,
   "metadata": {},
   "outputs": [],
   "source": []
  }
 ],
 "metadata": {
  "kernelspec": {
   "display_name": "Python 3",
   "language": "python",
   "name": "python3"
  },
  "language_info": {
   "codemirror_mode": {
    "name": "ipython",
    "version": 3
   },
   "file_extension": ".py",
   "mimetype": "text/x-python",
   "name": "python",
   "nbconvert_exporter": "python",
   "pygments_lexer": "ipython3",
   "version": "3.11.9"
  }
 },
 "nbformat": 4,
 "nbformat_minor": 2
}
