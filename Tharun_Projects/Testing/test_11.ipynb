{
 "cells": [
  {
   "cell_type": "code",
   "execution_count": null,
   "metadata": {},
   "outputs": [],
   "source": [
    "import pyspark\n",
    "from pyspark.sql import SparkSession\n",
    "from pyspark.sql.types import StructType, StructField, IntegerType, StringType\n",
    "spark = SparkSession.builder.appName(\"Local_app\").getOrCreate()\n",
    "from pyspark.sql.functions import col\n",
    "\n",
    "data = [(1,'tharun',5000),(2,'varun',4000),(3,'charun',6000)]\n",
    "schema = ['id','name','salary']\n",
    "df = spark.createDataFrame(data,schema)\n",
    "df.show()\n",
    "df.printSchema()\n",
    "df_1 = df.withColumn(colName='salary',col=col('salary').cast('String'))\n",
    "df_1.show()\n",
    "df_1.printSchema()\n",
    "\n"
   ]
  },
  {
   "cell_type": "code",
   "execution_count": null,
   "metadata": {},
   "outputs": [],
   "source": [
    "# df_2=df.withColumn('salary', col('salary'*2)as'New_Sala')\n",
    "# df_2.show()\n",
    "\n",
    "df_2 = df.withColumn('New_Sal', col('salary') * 2)\n",
    "df_2.show()"
   ]
  },
  {
   "cell_type": "code",
   "execution_count": null,
   "metadata": {},
   "outputs": [],
   "source": [
    "from pyspark.sql import SparkSession\n",
    "\n",
    "# Create a SparkSession\n",
    "spark = SparkSession.builder \\\n",
    "    .appName(\"Map and FlatMap Example\") \\\n",
    "    .getOrCreate()\n",
    "\n",
    "# Create a list of sentences\n",
    "sentences = [\"Hello world\", \"Spark is awesome\", \"Map and FlatMap are useful\"]\n",
    "\n",
    "# Create an RDD from the list of sentences\n",
    "sentences_rdd = spark.sparkContext.parallelize(sentences)\n",
    "\n",
    "# Use map to split each sentence into words\n",
    "words_map_rdd = sentences_rdd.map(lambda sentence: sentence.split())\n",
    "\n",
    "# Use flatMap to flatten the list of words\n",
    "words_flatmap_rdd = sentences_rdd.flatMap(lambda sentence: sentence.split())\n",
    "\n",
    "# Print the results\n",
    "print(\"Using map:\")\n",
    "for words in words_map_rdd.collect():\n",
    "    print(words)\n",
    "\n",
    "print(\"\\nUsing flatMap:\")\n",
    "for word in words_flatmap_rdd.collect():\n",
    "    print(word)\n",
    "\n",
    "# Stop the SparkSession\n",
    "spark.stop()\n"
   ]
  },
  {
   "cell_type": "code",
   "execution_count": null,
   "metadata": {},
   "outputs": [],
   "source": [
    "from pyspark.sql import SparkSession\n",
    "\n",
    "# Create a SparkSession\n",
    "spark = SparkSession.builder \\\n",
    "    .appName(\"Employee Analysis\") \\\n",
    "    .getOrCreate()\n",
    "\n",
    "# Load the CSV file into a DataFrame\n",
    "employees_df = spark.read.csv(r\"C:\\Users\\tharu\\emp_details.csv\", header=True, inferSchema=True)\n",
    "\n",
    "# Filter employees from the Software Development department\n",
    "software_dev_df = employees_df.filter(employees_df.department == \"Software Development\")\n",
    "\n",
    "# Use map to extract the projects list for each employee\n",
    "# Use flatMap to flatten the list of projects\n",
    "projects_rdd = software_dev_df.rdd.flatMap(lambda row: row['projects'])\n",
    "\n",
    "# Print the flattened list of projects\n",
    "print(\"List of projects in the Software Development department:\")\n",
    "for project in projects_rdd.collect():\n",
    "    print(project)\n",
    "\n",
    "# Stop the SparkSession\n",
    "spark.stop()\n"
   ]
  },
  {
   "cell_type": "code",
   "execution_count": null,
   "metadata": {},
   "outputs": [],
   "source": []
  },
  {
   "cell_type": "code",
   "execution_count": null,
   "metadata": {},
   "outputs": [],
   "source": []
  }
 ],
 "metadata": {
  "kernelspec": {
   "display_name": "Python 3",
   "language": "python",
   "name": "python3"
  },
  "language_info": {
   "codemirror_mode": {
    "name": "ipython",
    "version": 3
   },
   "file_extension": ".py",
   "mimetype": "text/x-python",
   "name": "python",
   "nbconvert_exporter": "python",
   "pygments_lexer": "ipython3",
   "version": "3.11.9"
  }
 },
 "nbformat": 4,
 "nbformat_minor": 2
}
