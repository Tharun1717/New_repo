{
 "cells": [
  {
   "cell_type": "code",
   "execution_count": 2,
   "metadata": {},
   "outputs": [
    {
     "name": "stdout",
     "output_type": "stream",
     "text": [
      "+---+------+------+\n",
      "| id|  name|salary|\n",
      "+---+------+------+\n",
      "|  1|tharun|  5000|\n",
      "|  2| varun|  4000|\n",
      "|  3|charun|  6000|\n",
      "+---+------+------+\n",
      "\n",
      "root\n",
      " |-- id: long (nullable = true)\n",
      " |-- name: string (nullable = true)\n",
      " |-- salary: long (nullable = true)\n",
      "\n",
      "+---+------+------+\n",
      "| id|  name|salary|\n",
      "+---+------+------+\n",
      "|  1|tharun|  5000|\n",
      "|  2| varun|  4000|\n",
      "|  3|charun|  6000|\n",
      "+---+------+------+\n",
      "\n",
      "root\n",
      " |-- id: long (nullable = true)\n",
      " |-- name: string (nullable = true)\n",
      " |-- salary: string (nullable = true)\n",
      "\n"
     ]
    }
   ],
   "source": [
    "import pyspark\n",
    "from pyspark.sql import SparkSession\n",
    "from pyspark.sql.types import StructType, StructField, IntegerType, StringType\n",
    "spark = SparkSession.builder.appName(\"Local_app\").getOrCreate()\n",
    "\n",
    "from pyspark.sql.functions import col\n",
    "data = [(1,'tharun',5000),(2,'varun',4000),(3,'charun',6000)]\n",
    "schema = ['id','name','salary']\n",
    "df = spark.createDataFrame(data,schema)\n",
    "df.show()\n",
    "df.printSchema()\n",
    "df_1 = df.withColumn(colName='salary',col=col('salary').cast('String'))\n",
    "df_1.show()\n",
    "df_1.printSchema()\n",
    "\n",
    "# df_2=df.withColumn('salary', col('salary'*2)as'New_Sala')\n",
    "# df_2.show()"
   ]
  },
  {
   "cell_type": "code",
   "execution_count": null,
   "metadata": {},
   "outputs": [],
   "source": []
  }
 ],
 "metadata": {
  "kernelspec": {
   "display_name": "Python 3",
   "language": "python",
   "name": "python3"
  },
  "language_info": {
   "codemirror_mode": {
    "name": "ipython",
    "version": 3
   },
   "file_extension": ".py",
   "mimetype": "text/x-python",
   "name": "python",
   "nbconvert_exporter": "python",
   "pygments_lexer": "ipython3",
   "version": "3.11.8"
  }
 },
 "nbformat": 4,
 "nbformat_minor": 2
}
