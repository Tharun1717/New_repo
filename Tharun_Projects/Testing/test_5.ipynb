{
 "cells": [
  {
   "cell_type": "code",
   "execution_count": 32,
   "metadata": {},
   "outputs": [],
   "source": [
    "import pyspark\n",
    "from pyspark.sql.functions import *\n",
    "from pyspark.sql.window import Window\n",
    "from pyspark.sql import functions as F\n",
    "from pyspark.sql import SparkSession\n",
    "spark = SparkSession.builder.appName(\"Reading_csv\").getOrCreate()"
   ]
  },
  {
   "cell_type": "code",
   "execution_count": 33,
   "metadata": {},
   "outputs": [],
   "source": [
    "df_1 = spark.read.csv(r\"C:\\Users\\tharu\\OneDrive\\Documents\\Employes.csv\",inferSchema=True,header=True)"
   ]
  },
  {
   "cell_type": "code",
   "execution_count": 34,
   "metadata": {},
   "outputs": [
    {
     "name": "stdout",
     "output_type": "stream",
     "text": [
      "+-----+------+-------+----+---------+----+----+------+\n",
      "|EMPNO| ENAME|    JOB| MGR| HIREDATE| SAL|COMM|DEPTNO|\n",
      "+-----+------+-------+----+---------+----+----+------+\n",
      "|  728| SMITH|  CLERK| 762|12-Mar-23|3000|NULL|    30|\n",
      "|  718| ALLEN|SALSMAN| 745|15-Dec-22|2500|NULL|    20|\n",
      "|  762|   SAM|MANAGER| 753|26-Sep-22|3500| 500|    20|\n",
      "|  738|MARTIN|ANALYST| 728|10-Feb-21|4000|NULL|    30|\n",
      "|  769| BLACK|  CLERK| 762|25-Dec-22|2000|NULL|    10|\n",
      "|  728|  KING|MANAGER|NULL|16-Mar-21|5000|1000|    30|\n",
      "|  796|TURNER|SALSMAN| 745|25-Jul-22|3500| 250|    20|\n",
      "|  785| SCOTT|  CLERK| 762|03-Oct-21|3000|NULL|    30|\n",
      "|  753| ADAMS|ANALYST| 728|24-Nov-23|3500|NULL|    10|\n",
      "|  734|  FORD|  CLERK| 762|28-Oct-22|2500|NULL|    10|\n",
      "|  745|MILLER|MANAGER| 728|18-Jan-22|3500| 700|    20|\n",
      "+-----+------+-------+----+---------+----+----+------+\n",
      "\n"
     ]
    }
   ],
   "source": [
    "df_1.show()"
   ]
  },
  {
   "cell_type": "code",
   "execution_count": 35,
   "metadata": {},
   "outputs": [],
   "source": [
    "df_2 = spark.read.csv(r\"C:\\Users\\tharu\\OneDrive\\Documents\\Department.csv\",inferSchema=True,header=True)"
   ]
  },
  {
   "cell_type": "code",
   "execution_count": 36,
   "metadata": {},
   "outputs": [
    {
     "name": "stdout",
     "output_type": "stream",
     "text": [
      "+------+------+------------+\n",
      "|DEPTNO| DNAME|    LOCATION|\n",
      "+------+------+------------+\n",
      "|    30| SMITH|    NEW YORK|\n",
      "|    20| ALLEN|     CHICAGO|\n",
      "|    20|   SAM| LOS ANGELES|\n",
      "|    30|MARTIN|      DALLAS|\n",
      "|    10| BLACK|SAN FRANSICO|\n",
      "|    30|  KING|     CHICAGO|\n",
      "|    20|TURNER|    NEW YORK|\n",
      "|    30| SCOTT|      DALLAS|\n",
      "|    10| ADAMS|     CHICAGO|\n",
      "|    10|  FORD|    NEW YORK|\n",
      "|    20|MILLER| LOS ANGELES|\n",
      "+------+------+------------+\n",
      "\n"
     ]
    }
   ],
   "source": [
    "df_2.show()"
   ]
  },
  {
   "cell_type": "code",
   "execution_count": 37,
   "metadata": {},
   "outputs": [
    {
     "name": "stdout",
     "output_type": "stream",
     "text": [
      "INNER JOIN:\n",
      "+-----+------+-------+----+---------+----+----+------+------+------+------------+\n",
      "|EMPNO| ENAME|    JOB| MGR| HIREDATE| SAL|COMM|DEPTNO|DEPTNO| DNAME|    LOCATION|\n",
      "+-----+------+-------+----+---------+----+----+------+------+------+------------+\n",
      "|  728| SMITH|  CLERK| 762|12-Mar-23|3000|NULL|    30|    30| SMITH|    NEW YORK|\n",
      "|  718| ALLEN|SALSMAN| 745|15-Dec-22|2500|NULL|    20|    20| ALLEN|     CHICAGO|\n",
      "|  762|   SAM|MANAGER| 753|26-Sep-22|3500| 500|    20|    20|   SAM| LOS ANGELES|\n",
      "|  738|MARTIN|ANALYST| 728|10-Feb-21|4000|NULL|    30|    30|MARTIN|      DALLAS|\n",
      "|  769| BLACK|  CLERK| 762|25-Dec-22|2000|NULL|    10|    10| BLACK|SAN FRANSICO|\n",
      "|  728|  KING|MANAGER|NULL|16-Mar-21|5000|1000|    30|    30|  KING|     CHICAGO|\n",
      "|  796|TURNER|SALSMAN| 745|25-Jul-22|3500| 250|    20|    20|TURNER|    NEW YORK|\n",
      "|  785| SCOTT|  CLERK| 762|03-Oct-21|3000|NULL|    30|    30| SCOTT|      DALLAS|\n",
      "|  753| ADAMS|ANALYST| 728|24-Nov-23|3500|NULL|    10|    10| ADAMS|     CHICAGO|\n",
      "|  734|  FORD|  CLERK| 762|28-Oct-22|2500|NULL|    10|    10|  FORD|    NEW YORK|\n",
      "|  745|MILLER|MANAGER| 728|18-Jan-22|3500| 700|    20|    20|MILLER| LOS ANGELES|\n",
      "+-----+------+-------+----+---------+----+----+------+------+------+------------+\n",
      "\n"
     ]
    }
   ],
   "source": [
    "inner_join = df_1.join(df_2, df_1.ENAME == df_2.DNAME, \"inner\")\n",
    "print(\"INNER JOIN:\")\n",
    "inner_join.show()"
   ]
  },
  {
   "cell_type": "code",
   "execution_count": 38,
   "metadata": {},
   "outputs": [
    {
     "name": "stdout",
     "output_type": "stream",
     "text": [
      "FULL OUTER JOIN:\n",
      "+-----+------+-------+----+---------+----+----+------+------+------+------------+\n",
      "|EMPNO| ENAME|    JOB| MGR| HIREDATE| SAL|COMM|DEPTNO|DEPTNO| DNAME|    LOCATION|\n",
      "+-----+------+-------+----+---------+----+----+------+------+------+------------+\n",
      "|  728| SMITH|  CLERK| 762|12-Mar-23|3000|NULL|    30|    30| SMITH|    NEW YORK|\n",
      "|  718| ALLEN|SALSMAN| 745|15-Dec-22|2500|NULL|    20|    20| ALLEN|     CHICAGO|\n",
      "|  762|   SAM|MANAGER| 753|26-Sep-22|3500| 500|    20|    20|   SAM| LOS ANGELES|\n",
      "|  738|MARTIN|ANALYST| 728|10-Feb-21|4000|NULL|    30|    30|MARTIN|      DALLAS|\n",
      "|  769| BLACK|  CLERK| 762|25-Dec-22|2000|NULL|    10|    10| BLACK|SAN FRANSICO|\n",
      "|  728|  KING|MANAGER|NULL|16-Mar-21|5000|1000|    30|    30|  KING|     CHICAGO|\n",
      "|  796|TURNER|SALSMAN| 745|25-Jul-22|3500| 250|    20|    20|TURNER|    NEW YORK|\n",
      "|  785| SCOTT|  CLERK| 762|03-Oct-21|3000|NULL|    30|    30| SCOTT|      DALLAS|\n",
      "|  753| ADAMS|ANALYST| 728|24-Nov-23|3500|NULL|    10|    10| ADAMS|     CHICAGO|\n",
      "|  734|  FORD|  CLERK| 762|28-Oct-22|2500|NULL|    10|    10|  FORD|    NEW YORK|\n",
      "|  745|MILLER|MANAGER| 728|18-Jan-22|3500| 700|    20|    20|MILLER| LOS ANGELES|\n",
      "+-----+------+-------+----+---------+----+----+------+------+------+------------+\n",
      "\n"
     ]
    }
   ],
   "source": [
    "full_outer_join = df_1.join(df_2, df_1.ENAME == df_2.DNAME, \"outer\")\n",
    "print(\"FULL OUTER JOIN:\")\n",
    "inner_join.show()"
   ]
  },
  {
   "cell_type": "code",
   "execution_count": 39,
   "metadata": {},
   "outputs": [
    {
     "data": {
      "text/plain": [
       "<bound method DataFrame.printSchema of DataFrame[EMPNO: int, ENAME: string, JOB: string, MGR: int, HIREDATE: string, SAL: int, COMM: int, DEPTNO: int]>"
      ]
     },
     "execution_count": 39,
     "metadata": {},
     "output_type": "execute_result"
    }
   ],
   "source": [
    "df_1.printSchema"
   ]
  },
  {
   "cell_type": "code",
   "execution_count": 40,
   "metadata": {},
   "outputs": [
    {
     "data": {
      "text/plain": [
       "<bound method DataFrame.printSchema of DataFrame[DEPTNO: int, DNAME: string, LOCATION: string]>"
      ]
     },
     "execution_count": 40,
     "metadata": {},
     "output_type": "execute_result"
    }
   ],
   "source": [
    "df_2.printSchema"
   ]
  },
  {
   "cell_type": "code",
   "execution_count": 41,
   "metadata": {},
   "outputs": [
    {
     "name": "stdout",
     "output_type": "stream",
     "text": [
      "DEPTNO DNAME LOCATION \n",
      "DEPTNO DNAME LOCATION \n",
      "DEPTNO DNAME LOCATION \n",
      "DEPTNO DNAME LOCATION \n",
      "DEPTNO DNAME LOCATION \n",
      "DEPTNO DNAME LOCATION \n",
      "DEPTNO DNAME LOCATION \n",
      "DEPTNO DNAME LOCATION \n"
     ]
    }
   ],
   "source": [
    "a = df_1.columns\n",
    "b = df_2.columns\n",
    "for i in range(len(a)):\n",
    "    #print(a[i])\n",
    "    for j in range(len(b)):\n",
    "        print(b[j], end=' ')\n",
    "        #print(a[i],b[j], end=' ')\n",
    "    print()"
   ]
  },
  {
   "cell_type": "markdown",
   "metadata": {},
   "source": [
    "# Select specific columns"
   ]
  },
  {
   "cell_type": "code",
   "execution_count": 42,
   "metadata": {},
   "outputs": [
    {
     "name": "stdout",
     "output_type": "stream",
     "text": [
      "SMITH\n",
      "ALLEN\n",
      "SAM\n",
      "MARTIN\n",
      "BLACK\n",
      "KING\n",
      "TURNER\n",
      "SCOTT\n",
      "ADAMS\n",
      "FORD\n",
      "MILLER\n"
     ]
    }
   ],
   "source": [
    "column_name = 'ENAME'\n",
    "selected_column = df_1.select(column_name)\n",
    "column_values = selected_column.rdd.map(lambda x: x[0]).collect()\n",
    "for value in column_values:\n",
    "    print(value)"
   ]
  },
  {
   "cell_type": "markdown",
   "metadata": {},
   "source": [
    "# Rank"
   ]
  },
  {
   "cell_type": "code",
   "execution_count": 43,
   "metadata": {},
   "outputs": [
    {
     "name": "stdout",
     "output_type": "stream",
     "text": [
      "+-----+------+-------+----+---------+----+----+------+\n",
      "|EMPNO| ENAME|    JOB| MGR| HIREDATE| SAL|COMM|DEPTNO|\n",
      "+-----+------+-------+----+---------+----+----+------+\n",
      "|  728| SMITH|  CLERK| 762|12-Mar-23|3000|NULL|    30|\n",
      "|  718| ALLEN|SALSMAN| 745|15-Dec-22|2500|NULL|    20|\n",
      "|  762|   SAM|MANAGER| 753|26-Sep-22|3500| 500|    20|\n",
      "|  738|MARTIN|ANALYST| 728|10-Feb-21|4000|NULL|    30|\n",
      "|  769| BLACK|  CLERK| 762|25-Dec-22|2000|NULL|    10|\n",
      "|  728|  KING|MANAGER|NULL|16-Mar-21|5000|1000|    30|\n",
      "|  796|TURNER|SALSMAN| 745|25-Jul-22|3500| 250|    20|\n",
      "|  785| SCOTT|  CLERK| 762|03-Oct-21|3000|NULL|    30|\n",
      "|  753| ADAMS|ANALYST| 728|24-Nov-23|3500|NULL|    10|\n",
      "|  734|  FORD|  CLERK| 762|28-Oct-22|2500|NULL|    10|\n",
      "|  745|MILLER|MANAGER| 728|18-Jan-22|3500| 700|    20|\n",
      "+-----+------+-------+----+---------+----+----+------+\n",
      "\n"
     ]
    }
   ],
   "source": [
    "df_1.show()"
   ]
  },
  {
   "cell_type": "code",
   "execution_count": 44,
   "metadata": {},
   "outputs": [
    {
     "name": "stdout",
     "output_type": "stream",
     "text": [
      "+-----+------+-------+----+---------+----+----+------+----+\n",
      "|EMPNO| ENAME|    JOB| MGR| HIREDATE| SAL|COMM|DEPTNO|RANK|\n",
      "+-----+------+-------+----+---------+----+----+------+----+\n",
      "|  769| BLACK|  CLERK| 762|25-Dec-22|2000|NULL|    10|   1|\n",
      "|  734|  FORD|  CLERK| 762|28-Oct-22|2500|NULL|    10|   2|\n",
      "|  753| ADAMS|ANALYST| 728|24-Nov-23|3500|NULL|    10|   3|\n",
      "|  718| ALLEN|SALSMAN| 745|15-Dec-22|2500|NULL|    20|   1|\n",
      "|  762|   SAM|MANAGER| 753|26-Sep-22|3500| 500|    20|   2|\n",
      "|  796|TURNER|SALSMAN| 745|25-Jul-22|3500| 250|    20|   2|\n",
      "|  745|MILLER|MANAGER| 728|18-Jan-22|3500| 700|    20|   2|\n",
      "|  728| SMITH|  CLERK| 762|12-Mar-23|3000|NULL|    30|   1|\n",
      "|  785| SCOTT|  CLERK| 762|03-Oct-21|3000|NULL|    30|   1|\n",
      "|  738|MARTIN|ANALYST| 728|10-Feb-21|4000|NULL|    30|   3|\n",
      "|  728|  KING|MANAGER|NULL|16-Mar-21|5000|1000|    30|   4|\n",
      "+-----+------+-------+----+---------+----+----+------+----+\n",
      "\n"
     ]
    }
   ],
   "source": [
    "\n",
    "window_spec = Window.partitionBy(\"DEPTNO\").orderBy(\"SAL\")\n",
    "rank_salary_by_dept = F.rank().over(window_spec)\n",
    "df_ranked_salary = df_1.withColumn(\"RANK\", rank_salary_by_dept)\n",
    "df_ranked_salary.show()\n"
   ]
  },
  {
   "cell_type": "markdown",
   "metadata": {},
   "source": [
    "\n",
    "# Dense Rank"
   ]
  },
  {
   "cell_type": "code",
   "execution_count": 45,
   "metadata": {},
   "outputs": [
    {
     "name": "stdout",
     "output_type": "stream",
     "text": [
      "DataFrame with Dense Rank:\n",
      "+-----+------+-------+----+---------+----+----+------+----------+\n",
      "|EMPNO| ENAME|    JOB| MGR| HIREDATE| SAL|COMM|DEPTNO|DENSE_RANK|\n",
      "+-----+------+-------+----+---------+----+----+------+----------+\n",
      "|  769| BLACK|  CLERK| 762|25-Dec-22|2000|NULL|    10|         1|\n",
      "|  734|  FORD|  CLERK| 762|28-Oct-22|2500|NULL|    10|         2|\n",
      "|  753| ADAMS|ANALYST| 728|24-Nov-23|3500|NULL|    10|         3|\n",
      "|  718| ALLEN|SALSMAN| 745|15-Dec-22|2500|NULL|    20|         1|\n",
      "|  762|   SAM|MANAGER| 753|26-Sep-22|3500| 500|    20|         2|\n",
      "|  796|TURNER|SALSMAN| 745|25-Jul-22|3500| 250|    20|         2|\n",
      "|  745|MILLER|MANAGER| 728|18-Jan-22|3500| 700|    20|         2|\n",
      "|  728| SMITH|  CLERK| 762|12-Mar-23|3000|NULL|    30|         1|\n",
      "|  785| SCOTT|  CLERK| 762|03-Oct-21|3000|NULL|    30|         1|\n",
      "|  738|MARTIN|ANALYST| 728|10-Feb-21|4000|NULL|    30|         2|\n",
      "|  728|  KING|MANAGER|NULL|16-Mar-21|5000|1000|    30|         3|\n",
      "+-----+------+-------+----+---------+----+----+------+----------+\n",
      "\n"
     ]
    }
   ],
   "source": [
    "# Define the window specification\n",
    "window_spec = Window.partitionBy(\"DEPTNO\").orderBy(\"SAL\")\n",
    "\n",
    "dense_rank_salary_by_dept = F.dense_rank().over(window_spec)\n",
    "df_dense_ranked_salary = df_1.withColumn(\"DENSE_RANK\", dense_rank_salary_by_dept)\n",
    "print(\"DataFrame with Dense Rank:\")\n",
    "df_dense_ranked_salary.show()\n"
   ]
  },
  {
   "cell_type": "markdown",
   "metadata": {},
   "source": [
    "# Row Number"
   ]
  },
  {
   "cell_type": "code",
   "execution_count": 46,
   "metadata": {},
   "outputs": [
    {
     "name": "stdout",
     "output_type": "stream",
     "text": [
      "DataFrame with Row Number:\n",
      "+-----+------+-------+----+---------+----+----+------+----------+\n",
      "|EMPNO| ENAME|    JOB| MGR| HIREDATE| SAL|COMM|DEPTNO|ROW_NUMBER|\n",
      "+-----+------+-------+----+---------+----+----+------+----------+\n",
      "|  769| BLACK|  CLERK| 762|25-Dec-22|2000|NULL|    10|         1|\n",
      "|  734|  FORD|  CLERK| 762|28-Oct-22|2500|NULL|    10|         2|\n",
      "|  753| ADAMS|ANALYST| 728|24-Nov-23|3500|NULL|    10|         3|\n",
      "|  718| ALLEN|SALSMAN| 745|15-Dec-22|2500|NULL|    20|         1|\n",
      "|  762|   SAM|MANAGER| 753|26-Sep-22|3500| 500|    20|         2|\n",
      "|  796|TURNER|SALSMAN| 745|25-Jul-22|3500| 250|    20|         3|\n",
      "|  745|MILLER|MANAGER| 728|18-Jan-22|3500| 700|    20|         4|\n",
      "|  728| SMITH|  CLERK| 762|12-Mar-23|3000|NULL|    30|         1|\n",
      "|  785| SCOTT|  CLERK| 762|03-Oct-21|3000|NULL|    30|         2|\n",
      "|  738|MARTIN|ANALYST| 728|10-Feb-21|4000|NULL|    30|         3|\n",
      "|  728|  KING|MANAGER|NULL|16-Mar-21|5000|1000|    30|         4|\n",
      "+-----+------+-------+----+---------+----+----+------+----------+\n",
      "\n"
     ]
    }
   ],
   "source": [
    "\n",
    "row_number_salary_by_dept = F.row_number().over(window_spec)\n",
    "df_row_numbered_salary = df_1.withColumn(\"ROW_NUMBER\", row_number_salary_by_dept)\n",
    "print(\"DataFrame with Row Number:\")\n",
    "df_row_numbered_salary.show()"
   ]
  },
  {
   "cell_type": "markdown",
   "metadata": {},
   "source": [
    "# Filter data based on a condition"
   ]
  },
  {
   "cell_type": "code",
   "execution_count": 47,
   "metadata": {},
   "outputs": [
    {
     "name": "stdout",
     "output_type": "stream",
     "text": [
      "+-----+------+-------+----+---------+----+----+------+\n",
      "|EMPNO| ENAME|    JOB| MGR| HIREDATE| SAL|COMM|DEPTNO|\n",
      "+-----+------+-------+----+---------+----+----+------+\n",
      "|  762|   SAM|MANAGER| 753|26-Sep-22|3500| 500|    20|\n",
      "|  728|  KING|MANAGER|NULL|16-Mar-21|5000|1000|    30|\n",
      "|  796|TURNER|SALSMAN| 745|25-Jul-22|3500| 250|    20|\n",
      "|  745|MILLER|MANAGER| 728|18-Jan-22|3500| 700|    20|\n",
      "+-----+------+-------+----+---------+----+----+------+\n",
      "\n"
     ]
    }
   ],
   "source": [
    "\n",
    "#filtered_data = df_1.filter(df_1[\"COMM\"].isnotnull() )\n",
    "#filtered_data.show()\n",
    "filtered_data = df_1.filter(df_1[\"COMM\"].isNotNull())\n",
    "filtered_data.show()"
   ]
  },
  {
   "cell_type": "markdown",
   "metadata": {},
   "source": [
    "# Group by department and calculate the average salary"
   ]
  },
  {
   "cell_type": "code",
   "execution_count": 48,
   "metadata": {},
   "outputs": [
    {
     "name": "stdout",
     "output_type": "stream",
     "text": [
      "+------+------------------+\n",
      "|DEPTNO|        AVG_SALARY|\n",
      "+------+------------------+\n",
      "|    20|            3250.0|\n",
      "|    10|2666.6666666666665|\n",
      "|    30|            3750.0|\n",
      "+------+------------------+\n",
      "\n"
     ]
    }
   ],
   "source": [
    "\n",
    "avg_salary_by_dept = df_1.groupBy(\"DEPTNO\").agg(avg(\"SAL\").alias(\"AVG_SALARY\"))\n",
    "avg_salary_by_dept.show()\n"
   ]
  },
  {
   "cell_type": "markdown",
   "metadata": {},
   "source": [
    "# Sort the DataFrame based on a column"
   ]
  },
  {
   "cell_type": "code",
   "execution_count": 49,
   "metadata": {},
   "outputs": [
    {
     "name": "stdout",
     "output_type": "stream",
     "text": [
      "+-----+------+-------+----+---------+----+----+------+\n",
      "|EMPNO| ENAME|    JOB| MGR| HIREDATE| SAL|COMM|DEPTNO|\n",
      "+-----+------+-------+----+---------+----+----+------+\n",
      "|  728|  KING|MANAGER|NULL|16-Mar-21|5000|1000|    30|\n",
      "|  738|MARTIN|ANALYST| 728|10-Feb-21|4000|NULL|    30|\n",
      "|  762|   SAM|MANAGER| 753|26-Sep-22|3500| 500|    20|\n",
      "|  796|TURNER|SALSMAN| 745|25-Jul-22|3500| 250|    20|\n",
      "|  753| ADAMS|ANALYST| 728|24-Nov-23|3500|NULL|    10|\n",
      "|  745|MILLER|MANAGER| 728|18-Jan-22|3500| 700|    20|\n",
      "|  728| SMITH|  CLERK| 762|12-Mar-23|3000|NULL|    30|\n",
      "|  785| SCOTT|  CLERK| 762|03-Oct-21|3000|NULL|    30|\n",
      "|  718| ALLEN|SALSMAN| 745|15-Dec-22|2500|NULL|    20|\n",
      "|  734|  FORD|  CLERK| 762|28-Oct-22|2500|NULL|    10|\n",
      "|  769| BLACK|  CLERK| 762|25-Dec-22|2000|NULL|    10|\n",
      "+-----+------+-------+----+---------+----+----+------+\n",
      "\n"
     ]
    }
   ],
   "source": [
    "\n",
    "sorted_df = df_1.orderBy(\"SAL\", ascending=False)\n",
    "sorted_df.show()\n"
   ]
  },
  {
   "cell_type": "markdown",
   "metadata": {},
   "source": [
    "#  Add a new column with a calculated value"
   ]
  },
  {
   "cell_type": "code",
   "execution_count": 50,
   "metadata": {},
   "outputs": [
    {
     "name": "stdout",
     "output_type": "stream",
     "text": [
      "+-----+------+-------+----+---------+----+----+------+------------+\n",
      "|EMPNO| ENAME|    JOB| MGR| HIREDATE| SAL|COMM|DEPTNO|TOTAL_SALARY|\n",
      "+-----+------+-------+----+---------+----+----+------+------------+\n",
      "|  728| SMITH|  CLERK| 762|12-Mar-23|3000|NULL|    30|        NULL|\n",
      "|  718| ALLEN|SALSMAN| 745|15-Dec-22|2500|NULL|    20|        NULL|\n",
      "|  762|   SAM|MANAGER| 753|26-Sep-22|3500| 500|    20|        4000|\n",
      "|  738|MARTIN|ANALYST| 728|10-Feb-21|4000|NULL|    30|        NULL|\n",
      "|  769| BLACK|  CLERK| 762|25-Dec-22|2000|NULL|    10|        NULL|\n",
      "|  728|  KING|MANAGER|NULL|16-Mar-21|5000|1000|    30|        6000|\n",
      "|  796|TURNER|SALSMAN| 745|25-Jul-22|3500| 250|    20|        3750|\n",
      "|  785| SCOTT|  CLERK| 762|03-Oct-21|3000|NULL|    30|        NULL|\n",
      "|  753| ADAMS|ANALYST| 728|24-Nov-23|3500|NULL|    10|        NULL|\n",
      "|  734|  FORD|  CLERK| 762|28-Oct-22|2500|NULL|    10|        NULL|\n",
      "|  745|MILLER|MANAGER| 728|18-Jan-22|3500| 700|    20|        4200|\n",
      "+-----+------+-------+----+---------+----+----+------+------------+\n",
      "\n"
     ]
    }
   ],
   "source": [
    "\n",
    "df_with_bonus = df_1.withColumn(\"TOTAL_SALARY\", col(\"SAL\") + col(\"COMM\"))\n",
    "df_with_bonus.show()"
   ]
  },
  {
   "cell_type": "markdown",
   "metadata": {},
   "source": [
    "#  Rename columns"
   ]
  },
  {
   "cell_type": "code",
   "execution_count": 51,
   "metadata": {},
   "outputs": [
    {
     "name": "stdout",
     "output_type": "stream",
     "text": [
      "+--------------+------+-------+----+---------+----+----+------+\n",
      "|EmployeeNumber| ENAME|    JOB| MGR| HIREDATE| SAL|COMM|DEPTNO|\n",
      "+--------------+------+-------+----+---------+----+----+------+\n",
      "|           728| SMITH|  CLERK| 762|12-Mar-23|3000|NULL|    30|\n",
      "|           718| ALLEN|SALSMAN| 745|15-Dec-22|2500|NULL|    20|\n",
      "|           762|   SAM|MANAGER| 753|26-Sep-22|3500| 500|    20|\n",
      "|           738|MARTIN|ANALYST| 728|10-Feb-21|4000|NULL|    30|\n",
      "|           769| BLACK|  CLERK| 762|25-Dec-22|2000|NULL|    10|\n",
      "|           728|  KING|MANAGER|NULL|16-Mar-21|5000|1000|    30|\n",
      "|           796|TURNER|SALSMAN| 745|25-Jul-22|3500| 250|    20|\n",
      "|           785| SCOTT|  CLERK| 762|03-Oct-21|3000|NULL|    30|\n",
      "|           753| ADAMS|ANALYST| 728|24-Nov-23|3500|NULL|    10|\n",
      "|           734|  FORD|  CLERK| 762|28-Oct-22|2500|NULL|    10|\n",
      "|           745|MILLER|MANAGER| 728|18-Jan-22|3500| 700|    20|\n",
      "+--------------+------+-------+----+---------+----+----+------+\n",
      "\n"
     ]
    }
   ],
   "source": [
    "\n",
    "df_renamed = df_1.withColumnRenamed(\"EMPNO\", \"EmployeeNumber\")\n",
    "df_renamed.show()"
   ]
  },
  {
   "cell_type": "markdown",
   "metadata": {},
   "source": [
    "#  Drop columns"
   ]
  },
  {
   "cell_type": "code",
   "execution_count": 52,
   "metadata": {},
   "outputs": [
    {
     "name": "stdout",
     "output_type": "stream",
     "text": [
      "+-----+------+-------+----+---------+----+------+\n",
      "|EMPNO| ENAME|    JOB| MGR| HIREDATE| SAL|DEPTNO|\n",
      "+-----+------+-------+----+---------+----+------+\n",
      "|  728| SMITH|  CLERK| 762|12-Mar-23|3000|    30|\n",
      "|  718| ALLEN|SALSMAN| 745|15-Dec-22|2500|    20|\n",
      "|  762|   SAM|MANAGER| 753|26-Sep-22|3500|    20|\n",
      "|  738|MARTIN|ANALYST| 728|10-Feb-21|4000|    30|\n",
      "|  769| BLACK|  CLERK| 762|25-Dec-22|2000|    10|\n",
      "|  728|  KING|MANAGER|NULL|16-Mar-21|5000|    30|\n",
      "|  796|TURNER|SALSMAN| 745|25-Jul-22|3500|    20|\n",
      "|  785| SCOTT|  CLERK| 762|03-Oct-21|3000|    30|\n",
      "|  753| ADAMS|ANALYST| 728|24-Nov-23|3500|    10|\n",
      "|  734|  FORD|  CLERK| 762|28-Oct-22|2500|    10|\n",
      "|  745|MILLER|MANAGER| 728|18-Jan-22|3500|    20|\n",
      "+-----+------+-------+----+---------+----+------+\n",
      "\n"
     ]
    }
   ],
   "source": [
    "\n",
    "df_without_comm = df_1.drop(\"COMM\")\n",
    "df_without_comm.show()"
   ]
  },
  {
   "cell_type": "code",
   "execution_count": 53,
   "metadata": {},
   "outputs": [
    {
     "name": "stdout",
     "output_type": "stream",
     "text": [
      "+-----+------+-------+---+---------+----+----+------+\n",
      "|EMPNO| ENAME|    JOB|MGR| HIREDATE| SAL|COMM|DEPTNO|\n",
      "+-----+------+-------+---+---------+----+----+------+\n",
      "|  762|   SAM|MANAGER|753|26-Sep-22|3500| 500|    20|\n",
      "|  796|TURNER|SALSMAN|745|25-Jul-22|3500| 250|    20|\n",
      "|  745|MILLER|MANAGER|728|18-Jan-22|3500| 700|    20|\n",
      "+-----+------+-------+---+---------+----+----+------+\n",
      "\n"
     ]
    }
   ],
   "source": [
    "df = df_1.na.drop()\n",
    "df.show()\n"
   ]
  },
  {
   "cell_type": "markdown",
   "metadata": {},
   "source": [
    "#  Describe statistics of numerical columns"
   ]
  },
  {
   "cell_type": "code",
   "execution_count": 54,
   "metadata": {},
   "outputs": [
    {
     "name": "stdout",
     "output_type": "stream",
     "text": [
      "+-------+------------------+------------------+\n",
      "|summary|               SAL|              COMM|\n",
      "+-------+------------------+------------------+\n",
      "|  count|                11|                 4|\n",
      "|   mean|3272.7272727272725|             612.5|\n",
      "| stddev| 817.4238913695991|317.21443851123803|\n",
      "|    min|              2000|               250|\n",
      "|    max|              5000|              1000|\n",
      "+-------+------------------+------------------+\n",
      "\n"
     ]
    }
   ],
   "source": [
    "\n",
    "df_1.select([\"SAL\", \"COMM\"]).describe().show()\n"
   ]
  },
  {
   "cell_type": "code",
   "execution_count": 55,
   "metadata": {},
   "outputs": [
    {
     "name": "stdout",
     "output_type": "stream",
     "text": [
      "+--------+----------+\n",
      "|min(SAL)|min(ENAME)|\n",
      "+--------+----------+\n",
      "|    2000|     ADAMS|\n",
      "+--------+----------+\n",
      "\n",
      "+--------+----------+\n",
      "|max(SAL)|max(ENAME)|\n",
      "+--------+----------+\n",
      "|    5000|    TURNER|\n",
      "+--------+----------+\n",
      "\n"
     ]
    }
   ],
   "source": [
    "from pyspark.sql import functions as F\n",
    "\n",
    "df_1.select([F.min(\"SAL\"), F.min(\"ENAME\")]).show()\n",
    "df_1.select([F.max(\"SAL\"), F.max(\"ENAME\")]).show()"
   ]
  },
  {
   "cell_type": "code",
   "execution_count": 56,
   "metadata": {},
   "outputs": [
    {
     "name": "stdout",
     "output_type": "stream",
     "text": [
      "+-----+------+-------+---+---------+----+----+------+\n",
      "|EMPNO| ENAME|    JOB|MGR| HIREDATE| SAL|COMM|DEPTNO|\n",
      "+-----+------+-------+---+---------+----+----+------+\n",
      "|  728| SMITH|  CLERK|762|12-Mar-23|3000|NULL|    30|\n",
      "|  718| ALLEN|SALSMAN|745|15-Dec-22|2500|NULL|    20|\n",
      "|  762|   SAM|MANAGER|753|26-Sep-22|3500| 500|    20|\n",
      "|  738|MARTIN|ANALYST|728|10-Feb-21|4000|NULL|    30|\n",
      "|  769| BLACK|  CLERK|762|25-Dec-22|2000|NULL|    10|\n",
      "+-----+------+-------+---+---------+----+----+------+\n",
      "only showing top 5 rows\n",
      "\n"
     ]
    }
   ],
   "source": [
    "df_1.show(5)"
   ]
  },
  {
   "cell_type": "code",
   "execution_count": 57,
   "metadata": {},
   "outputs": [
    {
     "name": "stdout",
     "output_type": "stream",
     "text": [
      "+-----+------+-------+\n",
      "|EMPNO| ENAME|    JOB|\n",
      "+-----+------+-------+\n",
      "|  728| SMITH|  CLERK|\n",
      "|  718| ALLEN|SALSMAN|\n",
      "|  762|   SAM|MANAGER|\n",
      "|  738|MARTIN|ANALYST|\n",
      "|  769| BLACK|  CLERK|\n",
      "|  728|  KING|MANAGER|\n",
      "|  796|TURNER|SALSMAN|\n",
      "|  785| SCOTT|  CLERK|\n",
      "|  753| ADAMS|ANALYST|\n",
      "|  734|  FORD|  CLERK|\n",
      "|  745|MILLER|MANAGER|\n",
      "+-----+------+-------+\n",
      "\n"
     ]
    }
   ],
   "source": [
    "df_1.select(\"EMPNO\", \"ENAME\", \"JOB\").show()\n"
   ]
  },
  {
   "cell_type": "code",
   "execution_count": 58,
   "metadata": {},
   "outputs": [
    {
     "name": "stdout",
     "output_type": "stream",
     "text": [
      "+------+---------+------------------+\n",
      "|DEPTNO|sum(COMM)|          avg(SAL)|\n",
      "+------+---------+------------------+\n",
      "|    20|     1450|            3250.0|\n",
      "|    10|     NULL|2666.6666666666665|\n",
      "|    30|     1000|            3750.0|\n",
      "+------+---------+------------------+\n",
      "\n"
     ]
    }
   ],
   "source": [
    "df_grouped = df_1.groupBy(\"DEPTNO\").agg({\"SAL\": \"avg\", \"COMM\": \"sum\"})\n",
    "df_grouped.show()\n"
   ]
  },
  {
   "cell_type": "code",
   "execution_count": 59,
   "metadata": {},
   "outputs": [
    {
     "name": "stdout",
     "output_type": "stream",
     "text": [
      "+-----+------+-------+----+---------+----+----+------+\n",
      "|EMPNO| ENAME|    JOB| MGR| HIREDATE| SAL|COMM|DEPTNO|\n",
      "+-----+------+-------+----+---------+----+----+------+\n",
      "|  728|  KING|MANAGER|NULL|16-Mar-21|5000|1000|    30|\n",
      "|  738|MARTIN|ANALYST| 728|10-Feb-21|4000|NULL|    30|\n",
      "|  762|   SAM|MANAGER| 753|26-Sep-22|3500| 500|    20|\n",
      "|  796|TURNER|SALSMAN| 745|25-Jul-22|3500| 250|    20|\n",
      "|  753| ADAMS|ANALYST| 728|24-Nov-23|3500|NULL|    10|\n",
      "|  745|MILLER|MANAGER| 728|18-Jan-22|3500| 700|    20|\n",
      "|  728| SMITH|  CLERK| 762|12-Mar-23|3000|NULL|    30|\n",
      "|  785| SCOTT|  CLERK| 762|03-Oct-21|3000|NULL|    30|\n",
      "|  718| ALLEN|SALSMAN| 745|15-Dec-22|2500|NULL|    20|\n",
      "|  734|  FORD|  CLERK| 762|28-Oct-22|2500|NULL|    10|\n",
      "|  769| BLACK|  CLERK| 762|25-Dec-22|2000|NULL|    10|\n",
      "+-----+------+-------+----+---------+----+----+------+\n",
      "\n"
     ]
    }
   ],
   "source": [
    "df_sorted = df_1.orderBy(\"SAL\", ascending=False)\n",
    "df_sorted.show()\n"
   ]
  },
  {
   "cell_type": "code",
   "execution_count": 60,
   "metadata": {},
   "outputs": [
    {
     "name": "stdout",
     "output_type": "stream",
     "text": [
      "+-----+------+-------+----+---------+----+----+------+-----+\n",
      "|EMPNO| ENAME|    JOB| MGR| HIREDATE| SAL|COMM|DEPTNO|BONUS|\n",
      "+-----+------+-------+----+---------+----+----+------+-----+\n",
      "|  728| SMITH|  CLERK| 762|12-Mar-23|3000|NULL|    30|300.0|\n",
      "|  718| ALLEN|SALSMAN| 745|15-Dec-22|2500|NULL|    20|250.0|\n",
      "|  762|   SAM|MANAGER| 753|26-Sep-22|3500| 500|    20|350.0|\n",
      "|  738|MARTIN|ANALYST| 728|10-Feb-21|4000|NULL|    30|400.0|\n",
      "|  769| BLACK|  CLERK| 762|25-Dec-22|2000|NULL|    10|200.0|\n",
      "|  728|  KING|MANAGER|NULL|16-Mar-21|5000|1000|    30|500.0|\n",
      "|  796|TURNER|SALSMAN| 745|25-Jul-22|3500| 250|    20|350.0|\n",
      "|  785| SCOTT|  CLERK| 762|03-Oct-21|3000|NULL|    30|300.0|\n",
      "|  753| ADAMS|ANALYST| 728|24-Nov-23|3500|NULL|    10|350.0|\n",
      "|  734|  FORD|  CLERK| 762|28-Oct-22|2500|NULL|    10|250.0|\n",
      "|  745|MILLER|MANAGER| 728|18-Jan-22|3500| 700|    20|350.0|\n",
      "+-----+------+-------+----+---------+----+----+------+-----+\n",
      "\n"
     ]
    }
   ],
   "source": [
    "df_with_bonus = df_1.withColumn(\"BONUS\", F.col(\"SAL\") * 0.1)\n",
    "df_with_bonus.show()"
   ]
  },
  {
   "cell_type": "code",
   "execution_count": 61,
   "metadata": {},
   "outputs": [
    {
     "name": "stdout",
     "output_type": "stream",
     "text": [
      "+----------+------------+-------+----+---------+----+----+------+\n",
      "|EmployeeID|EmployeeName|    JOB| MGR| HIREDATE| SAL|COMM|DEPTNO|\n",
      "+----------+------------+-------+----+---------+----+----+------+\n",
      "|       728|       SMITH|  CLERK| 762|12-Mar-23|3000|NULL|    30|\n",
      "|       718|       ALLEN|SALSMAN| 745|15-Dec-22|2500|NULL|    20|\n",
      "|       762|         SAM|MANAGER| 753|26-Sep-22|3500| 500|    20|\n",
      "|       738|      MARTIN|ANALYST| 728|10-Feb-21|4000|NULL|    30|\n",
      "|       769|       BLACK|  CLERK| 762|25-Dec-22|2000|NULL|    10|\n",
      "|       728|        KING|MANAGER|NULL|16-Mar-21|5000|1000|    30|\n",
      "|       796|      TURNER|SALSMAN| 745|25-Jul-22|3500| 250|    20|\n",
      "|       785|       SCOTT|  CLERK| 762|03-Oct-21|3000|NULL|    30|\n",
      "|       753|       ADAMS|ANALYST| 728|24-Nov-23|3500|NULL|    10|\n",
      "|       734|        FORD|  CLERK| 762|28-Oct-22|2500|NULL|    10|\n",
      "|       745|      MILLER|MANAGER| 728|18-Jan-22|3500| 700|    20|\n",
      "+----------+------------+-------+----+---------+----+----+------+\n",
      "\n"
     ]
    }
   ],
   "source": [
    "df_renamed = df_1.withColumnRenamed(\"EMPNO\", \"EmployeeID\").withColumnRenamed(\"ENAME\", \"EmployeeName\")\n",
    "df_renamed.show()\n"
   ]
  },
  {
   "cell_type": "code",
   "execution_count": 62,
   "metadata": {},
   "outputs": [
    {
     "name": "stdout",
     "output_type": "stream",
     "text": [
      "+-----+------+-------+---+---------+----+----+------+------+------+------------+\n",
      "|EMPNO| ENAME|    JOB|MGR| HIREDATE| SAL|COMM|DEPTNO|DEPTNO| DNAME|    LOCATION|\n",
      "+-----+------+-------+---+---------+----+----+------+------+------+------------+\n",
      "|  769| BLACK|  CLERK|762|25-Dec-22|2000|NULL|    10|    10| BLACK|SAN FRANSICO|\n",
      "|  769| BLACK|  CLERK|762|25-Dec-22|2000|NULL|    10|    10| ADAMS|     CHICAGO|\n",
      "|  769| BLACK|  CLERK|762|25-Dec-22|2000|NULL|    10|    10|  FORD|    NEW YORK|\n",
      "|  753| ADAMS|ANALYST|728|24-Nov-23|3500|NULL|    10|    10| BLACK|SAN FRANSICO|\n",
      "|  753| ADAMS|ANALYST|728|24-Nov-23|3500|NULL|    10|    10| ADAMS|     CHICAGO|\n",
      "|  753| ADAMS|ANALYST|728|24-Nov-23|3500|NULL|    10|    10|  FORD|    NEW YORK|\n",
      "|  734|  FORD|  CLERK|762|28-Oct-22|2500|NULL|    10|    10| BLACK|SAN FRANSICO|\n",
      "|  734|  FORD|  CLERK|762|28-Oct-22|2500|NULL|    10|    10| ADAMS|     CHICAGO|\n",
      "|  734|  FORD|  CLERK|762|28-Oct-22|2500|NULL|    10|    10|  FORD|    NEW YORK|\n",
      "|  718| ALLEN|SALSMAN|745|15-Dec-22|2500|NULL|    20|    20| ALLEN|     CHICAGO|\n",
      "|  718| ALLEN|SALSMAN|745|15-Dec-22|2500|NULL|    20|    20|   SAM| LOS ANGELES|\n",
      "|  718| ALLEN|SALSMAN|745|15-Dec-22|2500|NULL|    20|    20|TURNER|    NEW YORK|\n",
      "|  718| ALLEN|SALSMAN|745|15-Dec-22|2500|NULL|    20|    20|MILLER| LOS ANGELES|\n",
      "|  762|   SAM|MANAGER|753|26-Sep-22|3500| 500|    20|    20| ALLEN|     CHICAGO|\n",
      "|  762|   SAM|MANAGER|753|26-Sep-22|3500| 500|    20|    20|   SAM| LOS ANGELES|\n",
      "|  762|   SAM|MANAGER|753|26-Sep-22|3500| 500|    20|    20|TURNER|    NEW YORK|\n",
      "|  762|   SAM|MANAGER|753|26-Sep-22|3500| 500|    20|    20|MILLER| LOS ANGELES|\n",
      "|  796|TURNER|SALSMAN|745|25-Jul-22|3500| 250|    20|    20| ALLEN|     CHICAGO|\n",
      "|  796|TURNER|SALSMAN|745|25-Jul-22|3500| 250|    20|    20|   SAM| LOS ANGELES|\n",
      "|  796|TURNER|SALSMAN|745|25-Jul-22|3500| 250|    20|    20|TURNER|    NEW YORK|\n",
      "+-----+------+-------+---+---------+----+----+------+------+------+------------+\n",
      "only showing top 20 rows\n",
      "\n"
     ]
    }
   ],
   "source": [
    "\n",
    "joined_df = df_1.join(df_2, df_1[\"DEPTNO\"] == df_2[\"DEPTNO\"], \"outer\")\n",
    "joined_df.show()"
   ]
  },
  {
   "cell_type": "code",
   "execution_count": null,
   "metadata": {},
   "outputs": [],
   "source": []
  }
 ],
 "metadata": {
  "kernelspec": {
   "display_name": "Python 3",
   "language": "python",
   "name": "python3"
  },
  "language_info": {
   "codemirror_mode": {
    "name": "ipython",
    "version": 3
   },
   "file_extension": ".py",
   "mimetype": "text/x-python",
   "name": "python",
   "nbconvert_exporter": "python",
   "pygments_lexer": "ipython3",
   "version": "3.11.8"
  }
 },
 "nbformat": 4,
 "nbformat_minor": 2
}
