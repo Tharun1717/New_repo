{
 "cells": [
  {
   "cell_type": "code",
   "execution_count": 22,
   "metadata": {},
   "outputs": [
    {
     "name": "stdout",
     "output_type": "stream",
     "text": [
      "Access Granted!!.\n"
     ]
    }
   ],
   "source": [
    "name = 'Chris'\n",
    "if name == 'Sam' or 'Leo' or 'Alex':\n",
    "    print('Access Granted!!.')\n",
    "else:\n",
    "    print('Access denied.')"
   ]
  },
  {
   "cell_type": "code",
   "execution_count": 23,
   "metadata": {},
   "outputs": [
    {
     "name": "stdout",
     "output_type": "stream",
     "text": [
      "False 8 9\n"
     ]
    }
   ],
   "source": [
    "x = 7,8,9\n",
    "print(x == 7,8,9)\n"
   ]
  },
  {
   "cell_type": "code",
   "execution_count": 24,
   "metadata": {},
   "outputs": [
    {
     "name": "stdout",
     "output_type": "stream",
     "text": [
      "90\n"
     ]
    }
   ],
   "source": [
    "a = 50\n",
    "b = 40\n",
    "print(int(a+b))"
   ]
  },
  {
   "cell_type": "code",
   "execution_count": 25,
   "metadata": {},
   "outputs": [
    {
     "name": "stdout",
     "output_type": "stream",
     "text": [
      "Found c++!!\n"
     ]
    }
   ],
   "source": [
    "t = 'Python is amazing!'\n",
    "if t.find(\"c++\"):\n",
    "    print(\"Found c++!!\")\n",
    "else:\n",
    "    print(\"c++ not found!\")"
   ]
  },
  {
   "cell_type": "code",
   "execution_count": 26,
   "metadata": {},
   "outputs": [
    {
     "name": "stdout",
     "output_type": "stream",
     "text": [
      "2\n",
      "output: 0\n"
     ]
    }
   ],
   "source": [
    "x = {1,2,1}\n",
    "print(len(x))\n",
    "y = len(x)^2\n",
    "print(f'output: {y}')\n"
   ]
  },
  {
   "cell_type": "code",
   "execution_count": 27,
   "metadata": {},
   "outputs": [
    {
     "name": "stdout",
     "output_type": "stream",
     "text": [
      "[9, 8, 7, 6, 5]\n",
      "9 8 7 6 5\n"
     ]
    }
   ],
   "source": [
    "\n",
    "a=[10,9,8,7,6,5,4,3,2,1]\n",
    "print(a[-len(a)+1:len(a)-4:1])\n",
    "print(*a[-len(a)+1:len(a)-4:1])"
   ]
  },
  {
   "cell_type": "code",
   "execution_count": 28,
   "metadata": {},
   "outputs": [
    {
     "name": "stdout",
     "output_type": "stream",
     "text": [
      "a is: [1, 4, 9, 16, 25, 36, 49, 64, 81, 100]\n",
      "b is: [1, 8, 27, 64, 125, 216, 343, 512, 729, 1000]\n",
      "1 8 27 64 125 216 343 512 729 1000\n"
     ]
    }
   ],
   "source": [
    "a = [i*i for i in range(1,11)]\n",
    "print(f'a is: {a}')\n",
    "b = [int(i**0.5)*i for i in a]\n",
    "print(f'b is: {b}')\n",
    "print(*b)\n"
   ]
  },
  {
   "cell_type": "code",
   "execution_count": 29,
   "metadata": {},
   "outputs": [
    {
     "name": "stdout",
     "output_type": "stream",
     "text": [
      "1 2 3 4\n"
     ]
    }
   ],
   "source": [
    "x = {1,2,3,4}\n",
    "print(*x)"
   ]
  },
  {
   "cell_type": "code",
   "execution_count": 30,
   "metadata": {},
   "outputs": [
    {
     "name": "stdout",
     "output_type": "stream",
     "text": [
      "1 7 11 23 2 5 17\n"
     ]
    }
   ],
   "source": [
    "n=[1,6,7,8,9,10,11,21,23,2,5,17]\n",
    "m=[]\n",
    "for i in n:\n",
    "    for j in range(2,i):\n",
    "        if i%j==0:\n",
    "            break\n",
    "    else:\n",
    "        m.append(i)\n",
    "print(*m)"
   ]
  },
  {
   "cell_type": "code",
   "execution_count": 31,
   "metadata": {},
   "outputs": [
    {
     "name": "stdout",
     "output_type": "stream",
     "text": [
      "[1, 2, 3, 4, 5, 6, 7, 8, 9, 10]\n"
     ]
    }
   ],
   "source": [
    "# Simultaneously Traversing From Two Lists\n",
    "a = [1,3,5,7,9]\n",
    "b = [2,4,6,8,10]\n",
    "c = []\n",
    "for i,j in zip(a,b):\n",
    "    c.append(i)\n",
    "    c.append(j)\n",
    "print(c)"
   ]
  },
  {
   "cell_type": "code",
   "execution_count": 32,
   "metadata": {},
   "outputs": [
    {
     "name": "stdout",
     "output_type": "stream",
     "text": [
      "120\n"
     ]
    }
   ],
   "source": [
    "# Factorial of a number:\n",
    "n = 5\n",
    "f = 1\n",
    "i = 1\n",
    "while i <= n:\n",
    "    f *= i\n",
    "    i += 1\n",
    "print(f)"
   ]
  },
  {
   "cell_type": "code",
   "execution_count": 33,
   "metadata": {},
   "outputs": [
    {
     "name": "stdout",
     "output_type": "stream",
     "text": [
      "0\n",
      "1\n",
      "4\n",
      "9\n",
      "16\n",
      "25\n"
     ]
    }
   ],
   "source": [
    "def square_numbers(n):\n",
    "    for i in range(n+1):\n",
    "        yield i ** 2\n",
    "\n",
    "# Using the generator\n",
    "my_generator = square_numbers(5)\n",
    "for num in my_generator:\n",
    "    print(num)\n"
   ]
  },
  {
   "cell_type": "code",
   "execution_count": 34,
   "metadata": {},
   "outputs": [
    {
     "name": "stdout",
     "output_type": "stream",
     "text": [
      "0\n",
      "1\n",
      "2\n",
      "3\n",
      "4\n",
      "5\n",
      "6\n",
      "7\n",
      "8\n",
      "9\n"
     ]
    }
   ],
   "source": [
    "class Counter:\n",
    "    def __init__(self, limit):\n",
    "        self.limit = limit\n",
    "        self.current = 0\n",
    "\n",
    "    def __iter__(self):\n",
    "        return self\n",
    "\n",
    "    def __next__(self):\n",
    "        if self.current < self.limit:\n",
    "            result = self.current\n",
    "            self.current += 1\n",
    "            return result\n",
    "        else:\n",
    "            raise StopIteration\n",
    "\n",
    "# Using the iterator\n",
    "my_iterator = Counter(10)\n",
    "for num in my_iterator:\n",
    "    print(num)"
   ]
  },
  {
   "cell_type": "code",
   "execution_count": 35,
   "metadata": {},
   "outputs": [
    {
     "name": "stdout",
     "output_type": "stream",
     "text": [
      "['RANBIR', 'ANIMAL', 'PRABHAS', 'SALAR', 'YASH', 'KGF', 'RAM', 'RRR', 'VIJAY', 'LEO', 'SRK', 'PATAN', 'AA', 'PUSHPA']\n"
     ]
    }
   ],
   "source": [
    "Movies = {'RANBIR' : 'ANIMAL',\n",
    "          'PRABHAS' : 'SALAR',\n",
    "          'YASH' : 'KGF',\n",
    "          'RAM' : 'RRR',\n",
    "          'VIJAY' : 'LEO',\n",
    "          'SRK' : 'PATAN',\n",
    "          'AA' : 'PUSHPA'}\n",
    "s = Movies.keys()\n",
    "p = Movies.values()\n",
    "q = []\n",
    "\n",
    "for i,j in zip(s,p):\n",
    "    q.append(i)\n",
    "    q.append(j)\n",
    "print(q)\n",
    "\n",
    "\n"
   ]
  },
  {
   "cell_type": "code",
   "execution_count": 36,
   "metadata": {},
   "outputs": [
    {
     "name": "stdout",
     "output_type": "stream",
     "text": [
      "0 1 2 3 4 5 6 7 8 9 10 11 12 13 14 15 16 17 18 19 20\n"
     ]
    }
   ],
   "source": [
    "class Natural_No:\n",
    "    def __init__(self, s, e, u=1):\n",
    "        self.s, self.e, self.u = s, e, u\n",
    "\n",
    "    def __iter__(self):\n",
    "        self.i = self.s\n",
    "        return self\n",
    "\n",
    "    def __next__(self):\n",
    "        if self.i <= self.e:\n",
    "            res, self.i = self.i, self.i + self.u\n",
    "            return res\n",
    "        raise StopIteration\n",
    "\n",
    "# Create an instance of the Natural_No class and print the result as a set\n",
    "print(*set(Natural_No(0, 20, 1)))\n"
   ]
  },
  {
   "cell_type": "code",
   "execution_count": 37,
   "metadata": {},
   "outputs": [
    {
     "name": "stdout",
     "output_type": "stream",
     "text": [
      "0 1 2 3 4 5 6 7 8 9 10 11 12 13 14 15 16 17 18 19 20\n"
     ]
    }
   ],
   "source": [
    "class Natural_No:\n",
    "    def __init__(self, s, e, u=1):\n",
    "        self.s, self.e, self.u = s, e, u\n",
    "\n",
    "    def generator(self):\n",
    "        while self.s <= self.e:\n",
    "            yield self.s\n",
    "            self.s += self.u\n",
    "\n",
    "# Create an instance of the Natural_No class and print the result as a set\n",
    "print(*tuple(Natural_No(0, 20, 1).generator()))\n"
   ]
  },
  {
   "cell_type": "code",
   "execution_count": 38,
   "metadata": {},
   "outputs": [
    {
     "name": "stdout",
     "output_type": "stream",
     "text": [
      "[0, 1, 2, 3, 4, 5, 6, 7, 8, 9, 10, 11, 12, 13, 14, 15, 16, 17, 18, 19, 20]\n"
     ]
    }
   ],
   "source": [
    "class Natural_No:\n",
    "    def __init__(self, s, e, u=1):\n",
    "        self.s, self.e, self.u = s, e, u\n",
    "\n",
    "    def __iter__(self):\n",
    "        self.i = self.s\n",
    "        return self\n",
    "\n",
    "    def __next__(self):\n",
    "        if self.i <= self.e:\n",
    "            res = self.i\n",
    "            self.i += self.u\n",
    "            return res\n",
    "        raise StopIteration\n",
    "\n",
    "# Create an instance of the Natural_No class and print the result as a set\n",
    "print(list(iter(Natural_No(0, 20, 1))))\n"
   ]
  },
  {
   "cell_type": "code",
   "execution_count": 39,
   "metadata": {},
   "outputs": [
    {
     "name": "stdout",
     "output_type": "stream",
     "text": [
      "[(0,), (1,), (2,), (3,), (4,), (5,), (6,), (7,), (8,), (9,), (10,), (11,), (12,), (13,), (14,), (15,), (16,), (17,), (18,), (19,), (20,)]\n"
     ]
    }
   ],
   "source": [
    "class Natural_No:\n",
    "    def __init__(self, s, e, u=1):\n",
    "        self.s, self.e, self.u = s, e, u\n",
    "\n",
    "    def __iter__(self):\n",
    "        return iter(zip(range(self.s, self.e + 1, self.u)))\n",
    "    \n",
    "x = Natural_No(0, 20, 1)\n",
    "print(list(x))\n"
   ]
  },
  {
   "cell_type": "code",
   "execution_count": 40,
   "metadata": {},
   "outputs": [
    {
     "name": "stdout",
     "output_type": "stream",
     "text": [
      "[0, 1, 2, 3, 4, 5, 6, 7, 8, 9, 10, 11, 12, 13, 14, 15, 16, 17, 18, 19, 20]\n"
     ]
    }
   ],
   "source": [
    "class Natural_No:\n",
    "    def __init__(self, s, e, u=1):\n",
    "        self.s, self.e, self.u = s, e, u\n",
    "\n",
    "    def __iter__(self):\n",
    "        return iter(range(self.s, self.e + 1, self.u))\n",
    "\n",
    "x = Natural_No(0, 20, 1)\n",
    "print(list(x))\n"
   ]
  },
  {
   "cell_type": "code",
   "execution_count": 41,
   "metadata": {},
   "outputs": [
    {
     "name": "stdout",
     "output_type": "stream",
     "text": [
      "[0, 1, 2, 3, 4, 5, 6, 7, 8, 9, 10, 11, 12, 13, 14, 15, 16, 17, 18, 19, 20]\n"
     ]
    }
   ],
   "source": [
    "class Natural_No:\n",
    "    def __init__(self, s, e, u=1):\n",
    "        self.s, self.e, self.u = s, e, u\n",
    "\n",
    "    def __iter__(self):\n",
    "        return self\n",
    "\n",
    "    def __next__(self):\n",
    "        if self.s > self.e:\n",
    "            raise StopIteration\n",
    "        else:\n",
    "            result = self.s\n",
    "            self.s += self.u\n",
    "            return result\n",
    "\n",
    "x = Natural_No(0, 20, 1)\n",
    "print(list(x))\n"
   ]
  }
 ],
 "metadata": {
  "kernelspec": {
   "display_name": "Python 3",
   "language": "python",
   "name": "python3"
  },
  "language_info": {
   "codemirror_mode": {
    "name": "ipython",
    "version": 3
   },
   "file_extension": ".py",
   "mimetype": "text/x-python",
   "name": "python",
   "nbconvert_exporter": "python",
   "pygments_lexer": "ipython3",
   "version": "3.0.0"
  }
 },
 "nbformat": 4,
 "nbformat_minor": 2
}
