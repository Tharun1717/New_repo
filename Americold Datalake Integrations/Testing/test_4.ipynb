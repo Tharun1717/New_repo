{
 "cells": [
  {
   "cell_type": "markdown",
   "metadata": {},
   "source": [
    "# Create a Spark session"
   ]
  },
  {
   "cell_type": "code",
   "execution_count": 6,
   "metadata": {},
   "outputs": [],
   "source": [
    "from pyspark.sql import SparkSession\n",
    "\n",
    "spark = SparkSession.builder.appName(\"JoinExample\").getOrCreate()"
   ]
  },
  {
   "cell_type": "markdown",
   "metadata": {},
   "source": [
    "# Sample data for DataFrame df1"
   ]
  },
  {
   "cell_type": "code",
   "execution_count": 7,
   "metadata": {},
   "outputs": [],
   "source": [
    "\n",
    "data1 = [(1, \"Martin\"), (2, \"Sam\"), (3, \"Leo\"), (6,\"Justin\")]\n",
    "columns1 = [\"id\", \"name\"]\n",
    "df1 = spark.createDataFrame(data1, columns1)\n"
   ]
  },
  {
   "cell_type": "markdown",
   "metadata": {},
   "source": [
    "# Sample data for DataFrame df2"
   ]
  },
  {
   "cell_type": "code",
   "execution_count": 8,
   "metadata": {},
   "outputs": [],
   "source": [
    "\n",
    "data2 = [(1, 25), (2, 30), (4, 22), (5,23)]\n",
    "columns2 = [\"id\", \"age\"]\n",
    "df2 = spark.createDataFrame(data2, columns2)"
   ]
  },
  {
   "cell_type": "markdown",
   "metadata": {},
   "source": [
    "# Display the DataFrames"
   ]
  },
  {
   "cell_type": "code",
   "execution_count": 9,
   "metadata": {},
   "outputs": [
    {
     "name": "stdout",
     "output_type": "stream",
     "text": [
      "DataFrame 1:\n",
      "+---+------+\n",
      "| id|  name|\n",
      "+---+------+\n",
      "|  1|Martin|\n",
      "|  2|   Sam|\n",
      "|  3|   Leo|\n",
      "|  6|Justin|\n",
      "+---+------+\n",
      "\n"
     ]
    }
   ],
   "source": [
    "\n",
    "print(\"DataFrame 1:\")\n",
    "df1.show()\n"
   ]
  },
  {
   "cell_type": "code",
   "execution_count": 10,
   "metadata": {},
   "outputs": [
    {
     "name": "stdout",
     "output_type": "stream",
     "text": [
      "DataFrame 2:\n",
      "+---+---+\n",
      "| id|age|\n",
      "+---+---+\n",
      "|  1| 25|\n",
      "|  2| 30|\n",
      "|  4| 22|\n",
      "|  5| 23|\n",
      "+---+---+\n",
      "\n"
     ]
    }
   ],
   "source": [
    "\n",
    "print(\"DataFrame 2:\")\n",
    "df2.show()"
   ]
  },
  {
   "cell_type": "markdown",
   "metadata": {},
   "source": [
    "# INNER JOIN"
   ]
  },
  {
   "cell_type": "code",
   "execution_count": 11,
   "metadata": {},
   "outputs": [
    {
     "name": "stdout",
     "output_type": "stream",
     "text": [
      "INNER JOIN:\n",
      "+---+------+---+---+\n",
      "| id|  name| id|age|\n",
      "+---+------+---+---+\n",
      "|  1|Martin|  1| 25|\n",
      "|  2|   Sam|  2| 30|\n",
      "+---+------+---+---+\n",
      "\n"
     ]
    }
   ],
   "source": [
    "inner_join_df = df1.join(df2, df1.id == df2.id, \"inner\")\n",
    "print(\"INNER JOIN:\")\n",
    "inner_join_df.show()"
   ]
  },
  {
   "cell_type": "markdown",
   "metadata": {},
   "source": [
    "# LEFT OUTER JOIN"
   ]
  },
  {
   "cell_type": "code",
   "execution_count": 12,
   "metadata": {},
   "outputs": [
    {
     "name": "stdout",
     "output_type": "stream",
     "text": [
      "LEFT OUTER JOIN:\n",
      "+---+------+----+----+\n",
      "| id|  name|  id| age|\n",
      "+---+------+----+----+\n",
      "|  1|Martin|   1|  25|\n",
      "|  2|   Sam|   2|  30|\n",
      "|  3|   Leo|NULL|NULL|\n",
      "|  6|Justin|NULL|NULL|\n",
      "+---+------+----+----+\n",
      "\n"
     ]
    }
   ],
   "source": [
    "\n",
    "left_outer_join_df = df1.join(df2, df1.id == df2.id, \"left_outer\")\n",
    "print(\"LEFT OUTER JOIN:\")\n",
    "left_outer_join_df.show()"
   ]
  },
  {
   "cell_type": "markdown",
   "metadata": {},
   "source": [
    "# RIGHT OUTER JOIN"
   ]
  },
  {
   "cell_type": "code",
   "execution_count": 13,
   "metadata": {},
   "outputs": [
    {
     "name": "stdout",
     "output_type": "stream",
     "text": [
      "RIGHT OUTER JOIN:\n",
      "+----+------+---+---+\n",
      "|  id|  name| id|age|\n",
      "+----+------+---+---+\n",
      "|   1|Martin|  1| 25|\n",
      "|   2|   Sam|  2| 30|\n",
      "|NULL|  NULL|  4| 22|\n",
      "|NULL|  NULL|  5| 23|\n",
      "+----+------+---+---+\n",
      "\n"
     ]
    }
   ],
   "source": [
    "\n",
    "right_outer_join_df = df1.join(df2, df1.id == df2.id, \"right_outer\")\n",
    "print(\"RIGHT OUTER JOIN:\")\n",
    "right_outer_join_df.show()"
   ]
  },
  {
   "cell_type": "markdown",
   "metadata": {},
   "source": [
    "# LEFT ANTI JOIN"
   ]
  },
  {
   "cell_type": "code",
   "execution_count": 14,
   "metadata": {},
   "outputs": [
    {
     "name": "stdout",
     "output_type": "stream",
     "text": [
      "LEFT ANTI JOIN:\n",
      "+---+------+\n",
      "| id|  name|\n",
      "+---+------+\n",
      "|  3|   Leo|\n",
      "|  6|Justin|\n",
      "+---+------+\n",
      "\n"
     ]
    }
   ],
   "source": [
    "\n",
    "left_anti_join_df = df1.join(df2, df1.id == df2.id, \"left_anti\")\n",
    "print(\"LEFT ANTI JOIN:\")\n",
    "left_anti_join_df.show()\n"
   ]
  },
  {
   "cell_type": "markdown",
   "metadata": {},
   "source": [
    "# LEFT SEMI JOIN"
   ]
  },
  {
   "cell_type": "code",
   "execution_count": 15,
   "metadata": {},
   "outputs": [
    {
     "name": "stdout",
     "output_type": "stream",
     "text": [
      "LEFT SEMI JOIN:\n",
      "+---+------+\n",
      "| id|  name|\n",
      "+---+------+\n",
      "|  1|Martin|\n",
      "|  2|   Sam|\n",
      "+---+------+\n",
      "\n"
     ]
    }
   ],
   "source": [
    "\n",
    "left_semi_join_df = df1.join(df2, df1.id == df2.id, \"left_semi\")\n",
    "print(\"LEFT SEMI JOIN:\")\n",
    "left_semi_join_df.show()"
   ]
  },
  {
   "cell_type": "markdown",
   "metadata": {},
   "source": [
    "# FULL OUTER JOIN"
   ]
  },
  {
   "cell_type": "code",
   "execution_count": 16,
   "metadata": {},
   "outputs": [
    {
     "name": "stdout",
     "output_type": "stream",
     "text": [
      "FULL OUTER JOIN:\n",
      "+----+------+----+----+\n",
      "|  id|  name|  id| age|\n",
      "+----+------+----+----+\n",
      "|   1|Martin|   1|  25|\n",
      "|   2|   Sam|   2|  30|\n",
      "|   3|   Leo|NULL|NULL|\n",
      "|NULL|  NULL|   4|  22|\n",
      "|NULL|  NULL|   5|  23|\n",
      "|   6|Justin|NULL|NULL|\n",
      "+----+------+----+----+\n",
      "\n"
     ]
    }
   ],
   "source": [
    "\n",
    "full_outer_join_df = df1.join(df2, df1.id == df2.id, \"outer\")\n",
    "print(\"FULL OUTER JOIN:\")\n",
    "full_outer_join_df.show()\n",
    "\n"
   ]
  },
  {
   "cell_type": "markdown",
   "metadata": {},
   "source": [
    "# Stop the Spark session"
   ]
  },
  {
   "cell_type": "code",
   "execution_count": 17,
   "metadata": {},
   "outputs": [],
   "source": [
    "\n",
    "spark.stop()"
   ]
  }
 ],
 "metadata": {
  "kernelspec": {
   "display_name": "Python 3",
   "language": "python",
   "name": "python3"
  },
  "language_info": {
   "codemirror_mode": {
    "name": "ipython",
    "version": 3
   },
   "file_extension": ".py",
   "mimetype": "text/x-python",
   "name": "python",
   "nbconvert_exporter": "python",
   "pygments_lexer": "ipython3",
   "version": "3.11.7"
  }
 },
 "nbformat": 4,
 "nbformat_minor": 2
}
