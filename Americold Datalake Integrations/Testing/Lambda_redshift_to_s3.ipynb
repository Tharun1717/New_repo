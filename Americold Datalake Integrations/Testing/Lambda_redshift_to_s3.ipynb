import json
import time
import boto3
import logging
from datetime import datetime

REDSHIFT_DB = "dev"
REDSHIFT_SECRET_NAME = 'dev/Redshift/thg'
REDSHIFT_SECRET_ARN = "arn:aws:secretsmanager:us-west-2:646632670602:secret:dev/Redshift/thg-jkYezn"
S3_BUCKET = "i3pl-json-silver-dev"
S3_FOLDER = "SALESFORCE_TEST"

logger = logging.getLogger()
logger.setLevel(logging.INFO)

def get_redshift_credentials(secret_name):
    try:
        client = boto3.client('secretsmanager', region_name='us-west-2')
        response = client.get_secret_value(SecretId=secret_name)
        secret = response['SecretString'] if 'SecretString' in response else json.loads(response['SecretBinary'])
        return json.loads(secret)
    except Exception as e:
        logger.error(f"Error retrieving Redshift credentials: {e}")
        raise

def execute_redshift_query(query):
    try:
        credentials = get_redshift_credentials(REDSHIFT_SECRET_NAME)
        client = boto3.client('redshift-data')

        response = client.execute_statement(
            ClusterIdentifier=credentials['dbClusterIdentifier'],
            Database=REDSHIFT_DB,
            SecretArn=REDSHIFT_SECRET_ARN,
            Sql=query
        )

        query_id = response['Id']
        wait_for_query_execution(query_id, client)

        result_response = client.get_statement_result(Id=query_id)
        formatted_result = format_query_result(result_response)

        return formatted_result
    except Exception as e:
        logger.error(f"Error executing Redshift query: {e}")
        raise

def format_query_result(result_response):
    try:
        column_metadata = result_response['ColumnMetadata']
        records = result_response['Records']
        formatted_result = []
        for record in records:
            formatted_record = {}
            for i, column_info in enumerate(column_metadata):
                column_name = column_info['name']
                column_value = record[i]['stringValue']
                formatted_record[column_name] = column_value
            formatted_result.append(formatted_record)
        return formatted_result
    except Exception as e:
        logger.error(f"Error formatting query result: {e}")
        raise

def wait_for_query_execution(query_id, client):
    try:
        while True:
            response = client.describe_statement(Id=query_id)
            status = response['Status']
            if status == 'FINISHED':
                break
            elif status == 'FAILED' or status == 'ABORTED':
                raise Exception(f"Query execution failed: {response.get('Error')}")
            time.sleep(1)
    except Exception as e:
        logger.error(f"Error waiting for query execution: {e}")
        raise

def lambda_handler(event, context):
    try:
        query = event.get('query', "SELECT name, facility_id FROM orion_edw.facility")
        result = execute_redshift_query(query)
        if result:
            s3 = boto3.client('s3')
            current_time = datetime.now().strftime("%Y%m%d%H%M%S")
            filename = f"Facility_data_{current_time}.json"
            s3.put_object(
                Bucket=S3_BUCKET,
                Key=f"{S3_FOLDER}/{filename}",
                Body=json.dumps(result),
                ContentType='application/json'
            )
            logger.info(f"Query result saved to S3 bucket {S3_BUCKET} at {S3_FOLDER}/{filename}")
            return "Data successfully loaded into S3."
        else:
            logger.warning("No result returned from the query execution")
            return "No data returned from the query execution."
    except Exception as e:
        logger.error(f"Lambda execution failed: {e}")
        raise
