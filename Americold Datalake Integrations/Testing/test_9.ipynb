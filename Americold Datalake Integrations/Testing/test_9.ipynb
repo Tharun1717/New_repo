{
 "cells": [
  {
   "cell_type": "code",
   "execution_count": 1,
   "metadata": {},
   "outputs": [],
   "source": [
    "import pyspark\n",
    "from pyspark.sql import SparkSession\n",
    "sp = SparkSession.builder.appName(\"Test\").getOrCreate()"
   ]
  },
  {
   "cell_type": "code",
   "execution_count": 2,
   "metadata": {},
   "outputs": [],
   "source": [
    "import logging\n",
    "logging.basicConfig(\n",
    "    level=logging.INFO,\n",
    "    format='%(asctime)s [%(levelname)s] - %(message)s',\n",
    "    datefmt='%Y-%m-%d %H:%M:%S'\n",
    ")\n",
    "logger = logging.getLogger(__name__)"
   ]
  },
  {
   "cell_type": "code",
   "execution_count": 3,
   "metadata": {},
   "outputs": [
    {
     "name": "stderr",
     "output_type": "stream",
     "text": [
      "2024-01-22 12:44:59 [INFO] - <pyspark.sql.session.SparkSession object at 0x00000234F4161210>\n"
     ]
    }
   ],
   "source": [
    "a = 10\n",
    "logger.info(sp)"
   ]
  },
  {
   "cell_type": "code",
   "execution_count": 6,
   "metadata": {},
   "outputs": [
    {
     "name": "stdout",
     "output_type": "stream",
     "text": [
      "<pyspark.sql.session.SparkSession object at 0x00000234F4161210>\n"
     ]
    }
   ],
   "source": [
    "print(sp)"
   ]
  },
  {
   "cell_type": "code",
   "execution_count": 4,
   "metadata": {},
   "outputs": [
    {
     "name": "stdout",
     "output_type": "stream",
     "text": [
      "[1, 3, 2, 5, 5, 7, 7, 8, 4, 9]\n"
     ]
    }
   ],
   "source": [
    "b = [1, 3, 2, 5, 7, 8, 4, 9]\n",
    "c = []\n",
    "\n",
    "for i in range(len(b) - 1):\n",
    "    if b[i] < b[i + 1]:\n",
    "        c.append(b[i])\n",
    "        c.append(b[i + 1])\n",
    "\n",
    "print(c)\n"
   ]
  },
  {
   "cell_type": "code",
   "execution_count": 5,
   "metadata": {},
   "outputs": [
    {
     "name": "stdout",
     "output_type": "stream",
     "text": [
      "[1, 2, 3, 4, 5, 7, 8, 9]\n"
     ]
    }
   ],
   "source": [
    "b = [1, 3, 2, 5, 7, 8, 4, 9]\n",
    "\n",
    "# Bubble Sort algorithm\n",
    "n = len(b)\n",
    "for i in range(n):\n",
    "    for j in range(0, n-i-1):\n",
    "        if b[j] > b[j+1]:\n",
    "            # Swap the elements if they are in the wrong order\n",
    "            b[j], b[j+1] = b[j+1], b[j]\n",
    "\n",
    "# Print the sorted list\n",
    "print(b)\n"
   ]
  },
  {
   "cell_type": "code",
   "execution_count": null,
   "metadata": {},
   "outputs": [],
   "source": []
  }
 ],
 "metadata": {
  "kernelspec": {
   "display_name": "Python 3",
   "language": "python",
   "name": "python3"
  },
  "language_info": {
   "codemirror_mode": {
    "name": "ipython",
    "version": 3
   },
   "file_extension": ".py",
   "mimetype": "text/x-python",
   "name": "python",
   "nbconvert_exporter": "python",
   "pygments_lexer": "ipython3",
   "version": "3.11.7"
  }
 },
 "nbformat": 4,
 "nbformat_minor": 2
}
